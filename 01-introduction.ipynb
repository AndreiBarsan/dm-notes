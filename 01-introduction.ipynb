{
 "cells": [
  {
   "cell_type": "markdown",
   "metadata": {},
   "source": [
    "# 1. Introduction"
   ]
  },
  {
   "cell_type": "markdown",
   "metadata": {},
   "source": [
    "## What is data mining?\n",
    " * Semi-automatic procedures to find general and useful patterns in large data sets.\n",
    "\n",
    "## Applications\n",
    " * **Approximate retrieval**Finding similar elements (similar songs, image search, plagiarism detection, copyright protection, etc.) in giant datasets\n",
    " * Large scale classification (of user behavior, of images, of text, etc.)\n",
    " * Large scale clustering (unsupervised search for clumps of similar users, images, songs, articles, etc.) \n",
    " * Recommender systems (bandit algorithms ($\\epsilon$-greedy, UCB1, LinUCB, Hybrid LinUCB, etc.) and their applications in fields such as news article recommendation and adverting)\n",
    " * Others (monitoring transients in astronomy, spam filtering, fraud detection, machine translation, six degrees of ~~Kevin Bacon~~ separation etc.)\n",
    " \n",
    " \n",
    "## Scale\n",
    " * Example: 10-100 TB of data per sky survey (astronomy)\n",
    " * Archive sizes measured in **petabytes**\n",
    " * Real-time data flows (e.g. computing trends in social network)\n",
    " * Data sources\n",
    "     - science\n",
    "     - commercial/civil/engineering\n",
    "     - security/intelligence/defense"
   ]
  },
  {
   "cell_type": "code",
   "execution_count": null,
   "metadata": {
    "collapsed": true
   },
   "outputs": [],
   "source": []
  }
 ],
 "metadata": {
  "kernelspec": {
   "display_name": "Python 3",
   "language": "python",
   "name": "python3"
  },
  "language_info": {
   "codemirror_mode": {
    "name": "ipython",
    "version": 3
   },
   "file_extension": ".py",
   "mimetype": "text/x-python",
   "name": "python",
   "nbconvert_exporter": "python",
   "pygments_lexer": "ipython3",
   "version": "3.4.3"
  }
 },
 "nbformat": 4,
 "nbformat_minor": 0
}
