{
 "cells": [
  {
   "cell_type": "markdown",
   "metadata": {},
   "source": [
    "# 7. Bandit Algorithms"
   ]
  },
  {
   "cell_type": "markdown",
   "metadata": {},
   "source": [
    "TODO"
   ]
  },
  {
   "cell_type": "markdown",
   "metadata": {},
   "source": [
    "## Hoeffding's inequality\n",
    "> [...] provides an upper bound on the probability that the sum of random variables deviates from its expected value. \n",
    ">\n",
    "> -- Wikipedia\n",
    "\n",
    "Let $X_1,\\dots,X_m$ be i.i.d. random variables taking values in $[0, 1]$.\n",
    "\n",
    "The real mean $\\mu = \\mathbb{E}[X]$ is unknown.\n",
    "\n",
    "We have an empirical estimate based on our $m$ trials:\n",
    "\n",
    "\\begin{equation}\n",
    "    \\hat{\\mu}_m = \\frac{1}{m} \\sum_{i = 1}^{m} X_i\n",
    "\\end{equation}\n",
    "\n",
    "Then we have:\n",
    "\n",
    "\\begin{equation}\n",
    "    P\\left(\\left|\\mu - \\hat{\\mu}_m\\right| \\ge b\\right) \\le 2 \\exp\\left(-2b^2m \\right) = \\delta_m\n",
    "\\end{equation}\n",
    "\n",
    "That is, the probability of our operation being more than $b$ off the real value is smaller than a computable threshold.\n",
    "\n",
    "We just want an upper bound. So we set it to, say, $\\delta_m$, and then compute the corresponding $b$, as a function of $\\delta_m$ and $m$.\n",
    "\n",
    "For a fixed upper probability bound, we fix $\\delta_m$ and get $b = \\sqrt{\\frac{1}{2m} \\log{\\frac{2}{\\delta_m}}}$.\n",
    "\n",
    "Now we also want to set an upper bound on the probability not just for a single $m$, but for all $m$. Want upper bound for $E_m = P(|\\mu - \\hat{\\mu}_m| \\ge b)$, i.e. a lower bound for $P(|\\mu - \\hat{\\mu}_t| \\ge b, \\> \\forall t)$.\n",
    "\n",
    "So we get:\n",
    "\n",
    "\\begin{equation}\n",
    "\\begin{aligned}\n",
    "    P(|\\mu - \\hat{\\mu}_t| \\ge b, \\> \\forall t) & = 1 - P(E_1 \\cup E_2 \\cup \\dots) \\\\\n",
    "    & \\ge 1 - \\sum_{t=1}^{\\infty} P(E_t) \\\\\n",
    "    & \\ge 1 - \\sum_{t=1}^{\\infty} \\delta_t \\\\\n",
    "    & \\ge 1 - \\delta \\> \\text{with} \\> \\delta < \\sum_{t=1}^{\\infty}\\delta_t\n",
    "\\end{aligned}\n",
    "\\end{equation}\n",
    "\n",
    "2nd row smaller since the sum we're subtracting is bigger (longer than the prev.).\n",
    "3rd row smaller because all deltas are larger than their corresponding Es, as defined by Hoeffding's inequality itself."
   ]
  },
  {
   "cell_type": "markdown",
   "metadata": {},
   "source": [
    "We therefore want a sum of $d_t$ which is bounded. Setting $\\delta_t = \\frac{c}{t^2}$ works well, since the correspoinding sum converges, so the upper bound $\\delta$ exists and is finite.\n",
    "\n",
    "We now have a good heuristic: at any time step $t$, our upper bound should be $\\delta_t = \\frac{c}{t^2}$.\n",
    "\n",
    "Recall that we want to express $b$ as a function of $\\delta_t$, since $b$ is *the value which actually defines our upper confidence bound*.\n",
    "\n",
    "(Note that this probability shrinks quadratically over time, so it keeps getting tighter and tighter for all arms, as we keep playing.)\n",
    "\n",
    "All we need to do now is shove our $\\delta_t$ in the formula for $b$, and we get (setting $c := 2$):\n",
    "\n",
    "\\begin{aligned}\n",
    "\\operatorname{UCB}(i) \n",
    "& = \\hat{\\mu}_i + \\sqrt{\\frac{1}{n_i} \\ln (2  \\frac{t^2}{2}) } \\\\\n",
    "& = \\hat{\\mu}_i + \\sqrt{\\frac{\\ln{t^2}}{n_i}} \\\\\n",
    "& = \\hat{\\mu}_i + \\sqrt{\\frac{2 \\ln{t}}{n_i}}\n",
    "\\end{aligned}\n",
    "\n",
    "We can plug this formula right into a program! See `bonus/tutorial-bandits.ipynb` for an implementation.\n",
    "\n",
    "TODO: there seems to be a \"2\" missing somewhere. Low priority."
   ]
  },
  {
   "cell_type": "code",
   "execution_count": null,
   "metadata": {
    "collapsed": true
   },
   "outputs": [],
   "source": []
  }
 ],
 "metadata": {
  "kernelspec": {
   "display_name": "Python 3",
   "language": "python",
   "name": "python3"
  },
  "language_info": {
   "codemirror_mode": {
    "name": "ipython",
    "version": 3
   },
   "file_extension": ".py",
   "mimetype": "text/x-python",
   "name": "python",
   "nbconvert_exporter": "python",
   "pygments_lexer": "ipython3",
   "version": "3.4.3"
  }
 },
 "nbformat": 4,
 "nbformat_minor": 0
}
