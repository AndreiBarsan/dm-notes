{
 "cells": [
  {
   "cell_type": "markdown",
   "metadata": {},
   "source": [
    "# 4. Non-linear Classification"
   ]
  },
  {
   "cell_type": "markdown",
   "metadata": {},
   "source": [
    " * Nonlinear transformation on data, then just apply a linear classifier\n",
    " * We will use this *kernel trick* with our SVMs\n",
    " * In order to be able to do this, we will have to reformulate one of our primal SVM formulations into a dual formulation"
   ]
  },
  {
   "cell_type": "markdown",
   "metadata": {},
   "source": [
    "## Background\n",
    "\n",
    "Gathered from multiple sources, such as Wikipedia, the ETH DM lecture slides, mmds.org, and Stanford lectures on convex optimization (EE 364A, available on YouTube)."
   ]
  },
  {
   "cell_type": "markdown",
   "metadata": {},
   "source": [
    "### Positive semidefiniteness\n",
    " * Only defined for square matrices (obvious, see definition below)\n",
    " * $X \\in \\mathbb{R}^{n \\times n}$ positive definite $\\iff z^TXz \\ge 0 \\> \\forall z$\n",
    " * semi = non-strict inequality\n",
    " * Analogous definitions for negative and for non-semi variants"
   ]
  },
  {
   "cell_type": "markdown",
   "metadata": {},
   "source": [
    "### Affine and convex sets\n",
    " * An **affine set** always also contains the line through any two  points in itself.\n",
    "     - Any two points $x_1, x_2$; $x = \\theta x_1 + (1 - \\theta)x_2, \\theta \\in \\mathbb{R}$\n",
    "     - example: solution set of linear equations $\\{x \\> | \\> Ax = b \\}$.\n",
    " * A **convex set** always contains the line segment between any two points in itself.\n",
    "     - Any two points $x_1, x_2$; $x = \\theta x_1 + (1 - \\theta)x_2, \\theta \\in [0, 1]$\n",
    "     - example: from geometry, a square-shape is convex, a donut isn't\n",
    "     - Intuition: an affine set is a more general form of a convex set\n",
    "     - *Any affine set is also a convex set.*\n",
    "     \n",
    "### Convex combination and convex hull\n",
    " * A **convex combination** of points $x_1,\\dots,x_k$: any point $x$ of the form:\n",
    "     - $ x = \\theta_1x_1 + \\theta_2x_2 + \\dots + \\theta_kx_k $\n",
    "     - with $\\theta_1 + \\dots + \\theta_k = 1, \\> \\theta_i \\ge 0$\n",
    "     - omitting the second constraint $\\implies$ linear combination\n",
    " * A **convex hull of a set S** ($\\operatorname{conv} S$)  is the set of all convex combination points in S.\n",
    " \n",
    "### Hyperplanes and halfspaces\n",
    " * A **hyperplane** is a set of the form $\\{x \\> | \\> a^Tx = b\\}, (a \\ne 0)$\n",
    "     - $a$ is the normal, $b$ is the intercept (or bias)\n",
    "     - all hyperplanes are affine (and convex)\n",
    " * A **halfspace** is a set of the form $\\{x \\> | \\> a^x < b\\}, (a \\ne 0)$\n",
    "     - same terminology as for hyperplanes\n",
    "     - halfspaces are not vector spaces (not closed under scalar multiplication; we can easily \"escape it\")\n",
    "     - all halfspaces are convex\n",
    "     \n",
    "### Euclidean balls and ellipsoids\n",
    " * Euclidean = using the $l_2$ (Euclidean) norm in their description\n",
    " * An **(Euclidean) ball** of center $x_c$ and radius $r$ is\n",
    "     - $B(x_c, r) = \\left\\{ x \\> | \\> \\| x - x_c \\|_2 \\le r \\right\\} = \\left\\{x_c + ru \\> | \\> \\|u\\|_2 \\le 1 \\right\\}$\n",
    " * An **ellipsoid** is a set of form:\n",
    "     - $\\left\\{x\\>|\\> (x - x_c)^{T} P^{-1} (x - x_c) \\le 1 \\right\\}$, with $P \\in \\mathbf{S}^n_{++}$ ($P$ symmetric, positive definite matrix)\n",
    "     - generalization of the Euclidean ball\n",
    " * Both are convex sets\n",
    " \n",
    "### Norms\n",
    " * Any function $\\| \\cdot \\|$ which satisfies\n",
    "     - positive; $\\|x\\| = 0 \\iff x = 0$\n",
    "     - $\\|tx\\| = \\lvert t \\rvert \\|x\\| \\> \\forall t \\in \\mathbb{R}$\n",
    "     - $\\|x + y \\| \\le \\|x\\| + \\|y\\|$\n",
    " * Can define a *norm ball* with any norm and radius. The Euclidean ball from the previous section was a particular example.\n",
    "     - in $\\mathbb{R}^2$, $\\| \\cdot \\|_2$ is a diamond shape centered around the origin; $\\| \\cdot \\|_\\infty$ is a square."
   ]
  },
  {
   "cell_type": "markdown",
   "metadata": {},
   "source": [
    "### Polyhedra\n",
    " * Solution sets of finitely many linear equalities and inequalities\n",
    "     - $Ax \\preccurlyeq b$ (component-wise less than, since we're shoving a bunch of inequalities in a big matrix-vector multiplication followed by a vector-vector comparison) and $Cx = d$\n",
    " * Convex\n",
    " * Polyhedron is intersection of finite number of halfspaces and hyperplanes\n",
    " * Halfspaces and hyperplanes are special cases of polyhedra\n",
    " * Equalities turn our resulting polyhedron into a \"slice\" in that dimension\n",
    "\n",
    "### Preserving convexity\n",
    "Practical methods for establishing convexity of a set $C$\n",
    "\n",
    " * Apply definition\n",
    "     $x_1, x_2 \\in C, \\> 0 \\le \\theta \\le 1 \\implies \\theta x_1 + (1 - \\theta)x_2 \\in C$\n",
    "     \n",
    " * Show that $C$ is obtained from simple convex sets (hyperplanes, halfspaces, norm balls, etc.) by operations that preserve convexity\n",
    "    * intersection (any number); the intersection of any number of convex sets is convex\n",
    "    * affine functions\n",
    "    * perspective functions\n",
    "    * linear-fractional functions\n",
    "     \n",
    " * \"Matlab\" approach\n",
    "    * Pick some random points from the space\n",
    "    * Test points by brute force (or maybe just keep trying with $\\theta = 0.5$)"
   ]
  },
  {
   "cell_type": "markdown",
   "metadata": {},
   "source": [
    "### Affine functions\n",
    " * Suppose $f : \\mathbb{R}^n \\rightarrow \\mathbb{R}^m$ is *affine* ($\\> f(x) = Ax + b, A \\in \\mathbb{R}^{m \\times n}, b \\in \\mathbb{R}^m$)\n",
    " * $f$ turns convex sets into convex sets\n",
    " * $f^{-1}$ does the same\n",
    " * Examples: scaling, translation, projection\n",
    " \n",
    "### Perspective and linear-fractional functions\n",
    " * A **perspective function** $P : \\mathbb{R}^{n+1} \\rightarrow \\mathbb{R}^{n}$:\n",
    "     * $P(x, t) = x / t$, divide by last element and discard it.\n",
    "     * Perspective functions and their inverses conserve convexity\n",
    " * A **linear-fractional function**\n",
    "     * A generalization of the perspective function.\n",
    "     * Maintains convexity\n",
    "     \n",
    "### Generalized inequalities and cones\n",
    " * A simple ray from the origin is not a proper cone.\n",
    " * The nonnegative orthant is a proper cone.\n",
    " * Can define point inequalities in proper cones. However, they don't define a general ordering.\n",
    " * Minimum vs. minimal has to deal with other, non-comparable points (which exist when we're not dealing with a general ordering)\n",
    " * A dual cone of a cone $K$:\n",
    "     - $K^* = \\left\\{y \\> \\lvert \\> y^Tx \\ge 0 \\> \\forall \\> x \\in K \\right\\}$\n",
    "     - Any vector in the dual cone makes an angle $\\le 90$ degrees to any vector in the original cone\n",
    "     - Some cones are self-dual (e.g. the positive orthant)\n",
    "     - $(K^*)^* = K$ if $K$ is proper\n",
    " * Optimal production frontier problem\n",
    "     - the optimal frontier vectors are vecotrs minimal w.r.r. $\\mathbb{R}_{+}^{n}$\n",
    " \n",
    "### Supporting hyperplane theorem\n",
    " * A **supporting hyperplane** to set $C$ at boundary point $x_0$: $\\left\\{x \\> | \\> a^T x = a^T x_0 \\right\\}$, where $a \\ne 0$ and $a^Tx \\le a^Tx_0 \\> \\forall x \\in C$\n",
    " * Goes through $x_0$ and all of the set is on one side"
   ]
  },
  {
   "cell_type": "markdown",
   "metadata": {},
   "source": [
    "## Duality"
   ]
  }
 ],
 "metadata": {
  "kernelspec": {
   "display_name": "Python 3",
   "language": "python",
   "name": "python3"
  },
  "language_info": {
   "codemirror_mode": {
    "name": "ipython",
    "version": 3
   },
   "file_extension": ".py",
   "mimetype": "text/x-python",
   "name": "python",
   "nbconvert_exporter": "python",
   "pygments_lexer": "ipython3",
   "version": "3.4.3"
  }
 },
 "nbformat": 4,
 "nbformat_minor": 0
}
