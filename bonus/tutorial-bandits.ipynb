{
 "cells": [
  {
   "cell_type": "code",
   "execution_count": 6,
   "metadata": {
    "collapsed": false
   },
   "outputs": [],
   "source": [
    "%matplotlib inline\n",
    "from __future__ import division, print_function\n",
    "from matplotlib import pyplot as plt\n",
    "import numpy as np\n",
    "from ipywidgets import interact"
   ]
  },
  {
   "cell_type": "code",
   "execution_count": 7,
   "metadata": {
    "collapsed": false
   },
   "outputs": [],
   "source": [
    "def play(bandits, n_repetitions, mu, metric='average', noise=.3):\n",
    "    mu_star = np.max(mu)\n",
    "    rewards = {name: np.zeros(n_repetitions) for name in bandits}\n",
    "    for i in range(n_repetitions):\n",
    "        for name, bandit in bandits.items():\n",
    "            arm = bandit.play()\n",
    "            rewards[name][i] = mu[arm]\n",
    "            bandit.feedback(arm, np.clip(mu[arm] + noise * np.random.randn(), 0, 1))\n",
    "    plt.hold(True)\n",
    "    for name, reward in rewards.items():\n",
    "        if metric == 'regret':\n",
    "            data = mu_star - reward\n",
    "        elif metric == 'cumulative':  # Also known as total regret.\n",
    "            data = np.cumsum(mu_star - reward)\n",
    "        else:\n",
    "            assert metric == 'average'\n",
    "            data = np.cumsum(mu_star - reward) / np.linspace(1, n_repetitions, n_repetitions)\n",
    "        plt.plot(data, '--', label=name)\n",
    "    plt.legend()\n",
    "    plt.show()"
   ]
  },
  {
   "cell_type": "code",
   "execution_count": 8,
   "metadata": {
    "collapsed": true
   },
   "outputs": [],
   "source": [
    "class EpsGreedy:\n",
    "    def __init__(self, n_arms, eps=0):\n",
    "        self.eps = eps\n",
    "        self.n_arms = n_arms\n",
    "        self.payoffs = np.zeros(n_arms)\n",
    "        self.n_plays = np.zeros(n_arms)\n",
    "    \n",
    "    def play(self):\n",
    "        # Note that the theory tells us to pick epsilon as O(1/t), not constant (which we use here).\n",
    "        idx = np.argmin(self.n_plays)\n",
    "        if self.n_plays[idx] == 0:\n",
    "            return idx\n",
    "        if np.random.rand() <= self.eps:\n",
    "            return np.random.randint(self.n_arms)\n",
    "        else:\n",
    "            return np.argmax(self.payoffs / self.n_plays)\n",
    "\n",
    "    def feedback(self, arm, reward):\n",
    "        self.payoffs[arm] += reward\n",
    "        self.n_plays[arm] += 1"
   ]
  },
  {
   "cell_type": "code",
   "execution_count": 9,
   "metadata": {
    "collapsed": false
   },
   "outputs": [],
   "source": [
    "class UCB:\n",
    "    def __init__(self, n_arms, tau):\n",
    "        self.n_arms = n_arms\n",
    "        self.means = np.zeros(n_arms)\n",
    "        # Note that the UCB1 algorithm has tau=1.\n",
    "        self.n_plays = np.zeros(n_arms)\n",
    "        self.tau = tau\n",
    "        self.t = 0\n",
    "    \n",
    "    def play(self, plot=False):\n",
    "        # If plot is true, it will plot the means + bounds every 100 iterations.\n",
    "        self.t += 1\n",
    "        idx = np.argmin(self.n_plays)\n",
    "        if self.n_plays[idx] == 0:\n",
    "            return idx\n",
    "        ub = self.tau * np.sqrt(2 * np.log(self.t) / self.n_plays)\n",
    "        ucb = self.means + ub\n",
    "        if plot and self.t % 100 == 0:\n",
    "            plt.errorbar(list(range(self.n_arms)), self.means, yerr=ub)\n",
    "            plt.show()\n",
    "            print('chose arm', np.argmax(ucb))\n",
    "        return np.argmax(ucb)\n",
    "\n",
    "    def feedback(self, arm, reward):\n",
    "        self.n_plays[arm] += 1\n",
    "        self.means[arm] += 1 / (self.n_plays[arm]) * (reward - self.means[arm])"
   ]
  },
  {
   "cell_type": "code",
   "execution_count": 10,
   "metadata": {
    "collapsed": false
   },
   "outputs": [
    {
     "data": {
      "image/png": "[encoded data removed]",
      "text/plain": [
       "<matplotlib.figure.Figure at 0x7f0e60a5c350>"
      ]
     },
     "metadata": {},
     "output_type": "display_data"
    },
    {
     "data": {
      "image/png": "[encoded data removed]",
      "text/plain": [
       "<matplotlib.figure.Figure at 0x7f0e7c1ff450>"
      ]
     },
     "metadata": {},
     "output_type": "display_data"
    }
   ],
   "source": [
    "@interact(n_arms=(10, 30, 1), n_rounds=(100, 1000, 10), eps=(0, 1, .01) , tau=(0, 1, .01))\n",
    "def run(n_arms, n_rounds, eps, tau):\n",
    "    np.random.seed(123)\n",
    "    mu = np.random.randn(n_arms)\n",
    "    # Some other strategies for sampling.\n",
    "    # mu = np.random.standard_cauchy(n_arms)\n",
    "    # mu = np.random.gamma(shape=.1, size=(n_arms, 1))\n",
    "    mu = np.abs(mu)\n",
    "    mu /= np.max(mu)\n",
    "    plt.bar(list(range(n_arms)), mu)\n",
    "    plt.xlabel('arms')\n",
    "    plt.ylabel('rewards')\n",
    "    plt.show()\n",
    "    bandits = {\n",
    "        'eps-{0}'.format(eps) : EpsGreedy(n_arms, eps=eps),\n",
    "        'ucb-{0}'.format(tau) : UCB(n_arms, tau=tau)\n",
    "    }\n",
    "    play(bandits, n_rounds, mu)\n",
    "    # Hint: You can also plot the upper bound from UCB1 and see how tight it is."
   ]
  },
  {
   "cell_type": "code",
   "execution_count": null,
   "metadata": {
    "collapsed": true
   },
   "outputs": [],
   "source": []
  }
 ],
 "metadata": {
  "kernelspec": {
   "display_name": "Python 2",
   "language": "python",
   "name": "python2"
  },
  "language_info": {
   "codemirror_mode": {
    "name": "ipython",
    "version": 2
   },
   "file_extension": ".py",
   "mimetype": "text/x-python",
   "name": "python",
   "nbconvert_exporter": "python",
   "pygments_lexer": "ipython2",
   "version": "2.7.6"
  }
 },
 "nbformat": 4,
 "nbformat_minor": 0
}
