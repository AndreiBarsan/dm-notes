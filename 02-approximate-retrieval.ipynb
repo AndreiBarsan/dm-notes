{
 "cells": [
  {
   "cell_type": "markdown",
   "metadata": {},
   "source": [
    "# 2. Approximate Retrieval"
   ]
  },
  {
   "cell_type": "markdown",
   "metadata": {},
   "source": [
    "Quickly find nearest neighbors in (very) high dimensions.\n",
    "\n",
    "Examples:\n",
    " * Image search and image completion\n",
    " * Song search"
   ]
  },
  {
   "cell_type": "markdown",
   "metadata": {},
   "source": [
    "## Distance functions\n",
    "\n",
    " * $d : S \\times S \\rightarrow \\mathbb{R}$ is a **distance function** iff\n",
    "     - $\\forall s, t \\in S : d(s, t) \\ge 0$\n",
    "     - $\\forall s : d(s, s) = 0$\n",
    "     - $\\forall s, t \\in S : d(s, t) = d(t, s)$\n",
    "     - $\\forall s, t, r \\in S: d(s, t) + d(t, r) \\ge d(s, r)$ (triangle inequality)\n",
    "     - if $\\forall s, t \\in S: d(s, t) = 0 \\implies s = t$, then d is a \"stronger\" function called a **metric**\n",
    " * We make use of this by representing **objects as vectors**\n",
    "     - images become feature vectors (see Computer Vision course)\n",
    "     - documents become bag-of-words or tf-idf representations\n",
    " * Many types of distances\n",
    "     - $\\ell_p$, such as the Euclidean distance ($\\ell_2$)\n",
    "     - cosine distance (used a lot in text search)\n",
    "     - edit distance (expensive)\n",
    "     - Jaccard-distance (for sets)"
   ]
  },
  {
   "cell_type": "markdown",
   "metadata": {},
   "source": [
    "## Curse of dimensionality\n",
    "In very large dimensions, the minimum distance between any two points gets very close to the maximum distance between any points.\n",
    "\n",
    "$ \\lim_{D \\rightarrow \\infty} P[d_{max} \\le (1 + \\epsilon)d_{min}] = 1 $"
   ]
  },
  {
   "cell_type": "markdown",
   "metadata": {},
   "source": [
    "## Approximate retrieval\n",
    "### Input\n",
    "A data set $S$ and a distance function $d$.\n",
    "\n",
    "### Problem 1: Nearest neighbor\n",
    "Given $q$, find $s* = \\text{argmin}_{s \\in S} d(q, s)$"
   ]
  },
  {
   "cell_type": "markdown",
   "metadata": {},
   "source": [
    "### Problem 2: Near-duplicate detection\n",
    "Find all $s$, $s'$ in $S$, with distance at most $\\epsilon$.\n",
    "\n",
    "* Use **shingling** and **Jaccard distance** as a similarity measure.\n",
    "* Can even hash shingles to save space\n",
    "* Jaccard similarity: $JSim(A, B) = \\frac{|A \\cap B|}{|A \\cup B|}$\n",
    "* Jaccard distance: $d(A, B) = 1 - JSim(A, B)$"
   ]
  },
  {
   "cell_type": "code",
   "execution_count": 8,
   "metadata": {
    "collapsed": false
   },
   "outputs": [
    {
     "name": "stdout",
     "output_type": "stream",
     "text": [
      "Similarity: 0.33\n",
      "Distance:   0.67\n"
     ]
    }
   ],
   "source": [
    "def jaccard_sim(a, b):\n",
    "    return len(a & b) * 1.0 / len(a | b)\n",
    "\n",
    "def jaccard_distance(a, b):\n",
    "    return 1 - jaccard_sim(a, b)\n",
    "\n",
    "x = {1, 5, 6, 10}\n",
    "y = {2, 5, 6, 20}\n",
    "print(\"Similarity: %.2f\" % jaccard_sim(x, y))\n",
    "print(\"Distance:   %.2f\" % jaccard_distance(x, y))"
   ]
  },
  {
   "cell_type": "markdown",
   "metadata": {},
   "source": [
    "* Scale remains problematic; we can't just do a double loop over all $N$ elements...\n",
    "* Hashing works well for exact duplicates, can it work with near duplicates?\n",
    "* **Yes**, we have **locality sensitive hashing** (LSH)"
   ]
  },
  {
   "cell_type": "markdown",
   "metadata": {},
   "source": [
    "## Min-hashing\n",
    " * Reorder shingle matrix rows with random permutation $\\pi$\n",
    " * $\\operatorname{hash}(C) =$ minimum row number in which permuted column contains a one (C represents a column, i.e. a document in shingle form)\n",
    " * $h(C) = h_\\pi(C) = \\underset{i:C(i)=1}{\\min}\\pi(i)$\n",
    " * Turns out that the probability of two documents sharing a hash is equal to their Jaccard similarity: $P[h(C_1) = h(C_2)] = Sim(C_1, C_2)$ (trivial but interesting proof; see slides)\n",
    " * An alternative is sim-hashing (se"
   ]
  },
  {
   "cell_type": "code",
   "execution_count": null,
   "metadata": {
    "collapsed": true
   },
   "outputs": [],
   "source": []
  }
 ],
 "metadata": {
  "kernelspec": {
   "display_name": "Python 3",
   "language": "python",
   "name": "python3"
  },
  "language_info": {
   "codemirror_mode": {
    "name": "ipython",
    "version": 3
   },
   "file_extension": ".py",
   "mimetype": "text/x-python",
   "name": "python",
   "nbconvert_exporter": "python",
   "pygments_lexer": "ipython3",
   "version": "3.4.3"
  }
 },
 "nbformat": 4,
 "nbformat_minor": 0
}
