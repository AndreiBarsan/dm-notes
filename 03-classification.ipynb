{
 "cells": [
  {
   "cell_type": "markdown",
   "metadata": {},
   "source": [
    "# 3. Classification"
   ]
  },
  {
   "cell_type": "markdown",
   "metadata": {},
   "source": [
    " * Assign **labels** to **data points** (documents, images, users, etc.)\n",
    " * Training examples generalized to a **decision rule** (or more)"
   ]
  },
  {
   "cell_type": "code",
   "execution_count": 2,
   "metadata": {
    "collapsed": true
   },
   "outputs": [],
   "source": [
    "import pandas as pd\n",
    "import numpy as np"
   ]
  },
  {
   "cell_type": "markdown",
   "metadata": {},
   "source": [
    "## Linear classifiers\n",
    " * Model expressed as a normal $w$ to a hyperplane separating two classes (and, optionally, a bias (offset) term $b$).\n",
    " * Linear classifiers are easy to understand, quick to train, work very well (especially in high dimensions) and make extremely efficient predictions.\n",
    " * In all future examples, use *homgeneous representation* and only define a model as $w$, with no separate bias term, for simplicity's sake.\n",
    "     * Actually, the bias will simply be included in the model, as we replace $w = [w_1,\\dots,w_d]$ with $\\tilde w=[w_1,\\dots,w_d,b]$."
   ]
  },
  {
   "cell_type": "markdown",
   "metadata": {},
   "source": [
    "## Perceptrons [book]\n",
    " * Linear binary classifier\n",
    " * Model: *weights* $w$ and a *threshold* $\\theta$\n",
    " * Predicts:\n",
    "     - +1 if $wx > \\theta$\n",
    "     - -1 if $wx < \\theta$\n",
    "     - \"wrong\" if $wx = \\theta$ (!!!)\n",
    " * The weight vector symbolizes a hyperplane (s.t. $wx = \\theta$)\n",
    " * **Only works for data which is linearly separable**\n",
    "     - vanilla perceptron will not converge otherwise\n",
    "     - perceptron will converge to *some* hyperplane\n",
    "     - SVMs (see next section) try to find an optimal hyperplane, and also work well with data which are not perfectly linearly separable\n",
    " * The **Winnow Algorithm** is an improvement of the basic Perceptron which is guaranteed to converge (all features are 0 or 1).\n",
    " * Can be parallelized in a decent manner using multiple iterations of MapReduce\n",
    "     - partition training data to mappers\n",
    "     - map: emit all points which disagree with current $w$\n",
    "     - reduce: perform all updates to $w$ in centralized way\n",
    "     - repeat until convergence\n",
    " \n",
    "### Multiclass Perceptrons\n",
    " * For $k$ classes, train $k$ Perceptrons, one for every class; (positive examples are examples of that class; negative examples are all others)\n",
    " * Classify by computing all $w_ix$ values, and picking the largest one, as long as it's larger than the threshold $\\theta$. If it's not, then the new object does not belong to any known class.\n",
    " * In some cases (e.g. topic modelling), we can also have objects which may belong to more than one class (e.g. a news article can be about both sports and celebrities)\n",
    " \n",
    "### Nonlinear Perceptrons\n",
    " * Transform data into another coordinate system first (e.g. to polar coordinates) and run Perceptron in *that* space. But more on this, later, when we talk about non-linear SVMs.\n",
    "\n",
    "### Limitations\n",
    " * Perceptrons don't converge on non-linearily separable data\n",
    " * Perceptrons don't automatically choose a \"best\" separating hyperplane\n",
    " * Perceptrons can get (very) biased towards a class since they terminate as soon as they correctly classified all training data points (see textbook, Fig. 12.13)"
   ]
  },
  {
   "cell_type": "markdown",
   "metadata": {},
   "source": [
    "## Support Vector Machines\n",
    " * Max-margin classifiers\n",
    " * Find $w$ so that the margin to closest representatives of each class is maximized. Can be shown (but not here) that this is the right thing to do in order to improve our generalization.\n",
    " * Margin size is $\\frac{1}{||w||_2} = \\mathit{margin}$\n",
    " * Want to maximize margin size, so we want to minimize $w^Tw$, while also making sure that the margin is actually correct (duh!): $\\forall \\> i, w^Tx_i\\ge1$\n",
    " * There's always noise $\\implies$ model as slack variables.\n",
    "     - slack variables represent points we can't avoid mis-classifying\n",
    "     - one slack variable for every point\n",
    "         - $0$ if that point is \"good\" and can be classified OK by the SVM\n",
    "         - $>0$ if that point is not correctly classified by our computed $w$, but we sort of have to live with it\n",
    "         - in practice, most (if not all, if we're lucky) points $i$ have $\\xi_i = 0$\n",
    "\n",
    "### Convex optimization\n",
    " * This is the way we solve the SVM constrained minimization problem\n",
    " * Minimization because we want to \"shrink\" our model's magnitude (i.e. the margin size) and, as much as possible, the impact of the slack variables (data points which we cannot avoid misclassifying).\n",
    " * Constrained because we also want to ensure our model does the right thing and correctly classifies most points (for most points, we expect their $\\xi_i$ to be 0, and $y_iw^Tx_i\\ge1$, meaning that the point is snugly placed in the correct class; positive means the right side of the separation hyperplane; also greater than one means it's beyond the separation margin).\n",
    " * **Problem:** current approach has a run-time complexity of $\\Omega(n^2)$, and simply doesn't work if the data don't fit in memory."
   ]
  },
  {
   "cell_type": "markdown",
   "metadata": {},
   "source": [
    "### Convex optimization, reformulated\n",
    " * Because linear algebra is awesome, we can reformulate the (primal) SVM definition into something a little more useful.\n",
    " * $\\xi_i = \\operatorname{max}(0, 1 - y_iw^Tx_i)$, from the constraint part; it's called hinge loss ($l_{\\operatorname{hinge}}$)\n",
    " * Shove this into the minimization formula.\n",
    " * We get: $\\min_w{\\left (w^Tw + C\\sum\\limits_{i}\\max(0, 1 - y_iw^Tx_i) \\right )}$"
   ]
  },
  {
   "cell_type": "markdown",
   "metadata": {},
   "source": [
    "### Convex optimization, reformulated, again\n",
    " * We can formulate a multicriteria optimization problem in two ways:\n",
    "     * Minimize everything at once\n",
    "     * Minimize one objective, while keeping the other under a certain bound\n",
    " * Our above (re)formulation belongs to the first category (one big-ass $\\min$)\n",
    " * Let's write it in the second way.\n",
    " * Minimize the second part, as long as the first part ($w^Tw$) is below some threshold B.\n",
    " * We write that as:\n",
    "     * $\\min_w\\sum\\limits_i\\max(0, 1 - y_i w^T x_i)$ s. t. $||w||_2 \\lt \\frac{1}{\\sqrt{\\lambda}}$\n",
    " * Interestingly enough, all 3 of our formulations produce the **same solutions**. TODO: ask algebra guru for more details about why.\n",
    " * However, the complexity varies. A lot. The last version is the best in that regard."
   ]
  },
  {
   "cell_type": "markdown",
   "metadata": {},
   "source": [
    "## Convex optimization, in general\n",
    " * Many supervized learning problems consists of two components: a loss function and a regularizer.\n",
    " * From a (handwavily explained) Bayesian standpoint, the former represents the evidence, while the latter, our prior knowledge (i.e. we *know* our model shouldn't be *too* complex) [citation needed]\n",
    " * As we saw before, there are two ways to state these problems mathematically.\n",
    "     * Using a single \"large\" minimization (l + r)\n",
    "     * Using a little minimization (l) plus a constraint (r)\n",
    " * We will focus on the second techniques, as it makes it possible to perform online learning.\n",
    " \n",
    "SVM -> OCP -> online-to-batch conversion by averaging if we want to train a single SVM on fixed data set\n",
    "If we also pick data at random -> SGD.\n",
    "\n",
    "* TODO: strong convexity and its benefits \n",
    "    * Using geometric examples can really help!"
   ]
  },
  {
   "cell_type": "markdown",
   "metadata": {},
   "source": [
    "## Online Convex Programming (OCP)\n",
    "\n",
    "It can be shown that going through the data in streaming fashion can lead to sensible solution, while allowing truly massive data sets to be processed.\n",
    "\n",
    "Note that it is normal that some members of the training set are never used in a stochastic gradient descent algorithm."
   ]
  },
  {
   "cell_type": "code",
   "execution_count": 3,
   "metadata": {
    "collapsed": true
   },
   "outputs": [],
   "source": [
    "def shuffle_in_unison(a, b):\n",
    "    \"\"\"Helper used by the OCP implementation. Shuffles both numpy arrays in the same way.\"\"\"\n",
    "    assert len(a) == len(b)\n",
    "    shuffled_a = np.empty(a.shape, dtype=a.dtype)\n",
    "    shuffled_b = np.empty(b.shape, dtype=b.dtype)\n",
    "    permutation = np.random.permutation(len(a))\n",
    "    for old_index, new_index in enumerate(permutation):\n",
    "        shuffled_a[new_index] = a[old_index]\n",
    "        shuffled_b[new_index] = b[old_index]\n",
    "    return shuffled_a, shuffled_b\n"
   ]
  },
  {
   "cell_type": "code",
   "execution_count": 1,
   "metadata": {
    "collapsed": true
   },
   "outputs": [],
   "source": [
    "def svm_ocp(train_x, train_y):\n",
    "    assert train_x.shape[0] == train_y.shape[0]\n",
    "    assert train_y.shape[1] == 1\n",
    "\n",
    "    # The regularization parameter.\n",
    "    lbd = 0.005\n",
    "    rows, features = train_x.shape\n",
    "\n",
    "    # Initialize our model with zeros.\n",
    "    model = np.zeros(features)\n",
    "    model_sum = np.zeros(features)\n",
    "\n",
    "    # If we don't shuffle our input, the learning gets *really* messed up.\n",
    "    train_x_vals, train_y_vals = shuffle_in_unison(train_x.values,\n",
    "                                                   train_y.values)\n",
    "\n",
    "    for t, (x, y) in enumerate(zip(train_x_vals, train_y_vals)):\n",
    "        eta = 1 / math.sqrt(t + 1)\n",
    "        # eta = 1 / (lbd * (t + 2))\n",
    "        prediction = np.dot(x, model)\n",
    "        score = (y * prediction)[0]\n",
    "        if score < 1:\n",
    "            # We misclassified 'y'. Or weren't condifent enough.\n",
    "            # Let's update the model.\n",
    "\n",
    "            # Gradient descent step.\n",
    "            model_prime = model + eta * y * x\n",
    "\n",
    "            # Regularization step (stay inside the hypersphere with radius\n",
    "            # lambda).\n",
    "            model_prime_norm = np.linalg.norm(model_prime)\n",
    "            regularizer = 1 / (math.sqrt(lbd) * model_prime_norm)\n",
    "            model = model_prime * min(1, regularizer)\n",
    "\n",
    "        model_sum += model\n",
    "\n",
    "    # Online-to-batch conversion: we simply want to average over all iterations\n",
    "    # of our model. This is a very simple and provably accurate method.\n",
    "    # TODO(andrei) Consider skipping first 'k' elements.\n",
    "    avg_model = model_sum / rows\n",
    "\n",
    "    return avg_model"
   ]
  },
  {
   "cell_type": "markdown",
   "metadata": {},
   "source": [
    "## PEGASOS vs. standard OCP/SGD\n",
    "\n",
    "<table>\n",
    "    <tr><th></th><th>PEGASOS</th><th>OCP/SGD</th></tr>\n",
    "    <tr><td>Updating</td><td>Batch updates</td><td>Single-point updates</td></tr>\n",
    "    <tr><td>Loss function</td><td>Strongly convex</td><td>Convex</td></tr>\n",
    "    <tr><td>Run-time complexity</td><td>Depends on number of dimensions and desired accuracy</td><td>Depends on number of data points</td>\n",
    "</table>"
   ]
  },
  {
   "cell_type": "markdown",
   "metadata": {},
   "source": [
    "## Perceptrons vs. SVMs\n",
    "\n",
    "(TODO)\n",
    "\n",
    "<table>\n",
    "    <tr><th></th><th>Perceptron</th><th>SVM</th></tr>\n",
    "    <tr><td>Scalability</td><td colspan=\"2\">Both can support millions of features</td></tr>\n",
    "    <tr><td>Supported data types</td><td>Numeric only</td><td>Numeric only, unless kernels are used</td></tr>\n",
    "    <tr><td> </td><td></td><td></td></tr>\n",
    "</table>"
   ]
  },
  {
   "cell_type": "markdown",
   "metadata": {},
   "source": [
    "## Adapting to geometry (AdaGrad)\n",
    " * In some cases, gradient descent can take a long time to converge because of the distorted curvature of the loss function\n",
    " * We can \"stretch\" the dimensions to make our gradient \"aim\" better towards the minimum and thus converge faster\n",
    " * Transformation matrix $A$: $z = Aw$, $w=A^{-1}z$\n",
    " * Gradient descent in z-space:\n",
    "     - $z_{t+1} = \\operatorname{arg min}\\limits_{z: A^{-1}z \\in S} || z - \\left(z_t - \\eta\\nabla_z g(z_t) \\right) ||_2^2$\n",
    "     - explained:\n",
    "         - we still want to minimize, hence the $\\operatorname{arg min}$\n",
    "         - we still want to constrain based on the original space, so we impose the constraint on $w = A^{-1}z \\in S$\n",
    "         - the updated model is computed via gradient descent (duh) in the $\\nabla_zg(z_t)$ part; $\\eta$ just tweaks the learning speed as much as we want\n",
    "     - We reach: $\\operatorname{arg min}\\limits_{w \\in S} || w - \\left( w_t - \\eta A^{-1}\\nabla_w f(w_t) \\right) ||_A^2$ (which uses the Mahalanobis norm instead of the $\\ell_2$ one)\n",
    " * All that's left is to pick an appropriate projection matrix $A$\n",
    "     - positive definite\n",
    "     - symmetric\n",
    "     - all eigenvalues $\\ge 0$\n",
    " * We could compute a nice $G_T$ which minimizes the regret upper bound...\n",
    " * But we obviously can't compute $G_T$ at time $t < T$ :(\n",
    " * See 06:24 for more details.\n",
    " * There's an alternate way of computing an optimal $G_t$ at every step\n",
    " * $G_t = \\left( \\sum\\limits_{\\tau = 1}^{t}\\nabla f_{\\tau}(w_{\\tau})\\nabla f_{\\tau}(w_{\\tau})^T \\right)^\\frac{1}{2}$\n",
    " * However, G is expensive to compute, and it also needs to be inverted.\n",
    " * Solution: $G_t := diag(G_t)$; this is much easier to work with and trivial to invert\n",
    " * **Bonus:** can prove that AdaGrad provides advantages if data is sparse (better upper bound for $\\mathbb{E}[L(\\hat{w})] - L(w^*)$\n",
    " * Generalization of OCP and friends: Proximal gradient methods.\n",
    "\n",
    "Note: AdaGrad is not covered in the textbook (as of January 2016)"
   ]
  },
  {
   "cell_type": "markdown",
   "metadata": {},
   "source": [
    "### Mahalanobis distance\n",
    "\n",
    "TODO: more info, since we need it to really grok ADAGRAD.\n",
    "\n",
    "> The Mahalanobis distance is essentially the distance between a point and the centroid of a cluster, normalized by the standard deviation of the cluster in each dimension.\n",
    "> \n",
    "> -- Rajaraman, Anand, and Jeffrey D. Ullman. Mining of massive datasets. Vol. 77. Cambridge: Cambridge University Press, 2012.\n",
    "\n",
    "\\begin{equation}\n",
    "    d_{\\text{Mahalanobis}}(x, y) = \\sqrt{\\sum_{i=1}^{d}\\left( \\frac{p_i - c_i}{\\sigma_i} \\right)^{2}}\n",
    "\\end{equation}"
   ]
  },
  {
   "cell_type": "markdown",
   "metadata": {},
   "source": [
    "## Exploiting parallelism\n",
    " * Parallelize gradient computation (cluster)\n",
    "     - needs to constantly sync value of $w$ after each iteration\n",
    " * Parallel stochastic gradient descent (cluster)\n",
    "     - partition data\n",
    "     - run SGD independently on each partition\n",
    "     - average produced models\n",
    "     - TODO: analysis of error rate\n",
    " * Hogwild! (multi-proc)\n",
    "      - on local, multi-processor machine\n",
    "      - no sychrnoization\n",
    "      - works well, as long as the data is sparse!\n",
    " * Parameter server\n",
    "      - keep track of $w$ on central machine, which receives $\\Delta w$s every once in a while, after which it pushes the update to all the workers"
   ]
  },
  {
   "cell_type": "markdown",
   "metadata": {},
   "source": [
    "## Open questions\n",
    " * When transitioning from the first SVM formulation (with slack variables), to the second one aren't we loosening any constraint by fixing $\\xi$?\n",
    "     * (tentative) It seems we're not, since we're taking multiple cases into consideration and merging them together into a single formulation using max.\n",
    " * Slide 04:18: Is the first (primal) SVM formulation a (ii)-type one (since it has a minimization and its constraint as separate equation), or is it not eligible for this categorization?\n",
    " * Slide 06:15: How do we go from step 1 to 2? Isn't the $\\lambda||w||_2^2$ term outside the sum?"
   ]
  },
  {
   "cell_type": "code",
   "execution_count": null,
   "metadata": {
    "collapsed": true
   },
   "outputs": [],
   "source": []
  }
 ],
 "metadata": {
  "kernelspec": {
   "display_name": "Python 3",
   "language": "python",
   "name": "python3"
  },
  "language_info": {
   "codemirror_mode": {
    "name": "ipython",
    "version": 3
   },
   "file_extension": ".py",
   "mimetype": "text/x-python",
   "name": "python",
   "nbconvert_exporter": "python",
   "pygments_lexer": "ipython3",
   "version": "3.4.3"
  }
 },
 "nbformat": 4,
 "nbformat_minor": 0
}
