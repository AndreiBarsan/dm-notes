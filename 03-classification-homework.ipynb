{
 "cells": [
  {
   "cell_type": "markdown",
   "metadata": {},
   "source": [
    "# Series 3, Online Convex Programming"
   ]
  },
  {
   "cell_type": "code",
   "execution_count": 86,
   "metadata": {
    "collapsed": true
   },
   "outputs": [],
   "source": [
    "import math\n",
    "\n",
    "import numpy as np\n",
    "import pandas as pd\n",
    "import scipy\n",
    "\n",
    "from scipy.linalg import norm\n",
    "from sklearn.base import BaseEstimator, ClassifierMixin\n",
    "\n",
    "%matplotlib inline\n",
    "\n",
    "import matplotlib.pyplot as plt"
   ]
  },
  {
   "cell_type": "code",
   "execution_count": 2,
   "metadata": {
    "collapsed": true
   },
   "outputs": [],
   "source": [
    "# Ensure consistency across runs.\n",
    "np.random.seed(1337)"
   ]
  },
  {
   "cell_type": "code",
   "execution_count": 3,
   "metadata": {
    "collapsed": true
   },
   "outputs": [],
   "source": [
    "Xtrain = np.genfromtxt('data/Xtrain.csv', delimiter=',')\n",
    "Ytrain = np.genfromtxt('data/Ytrain.csv', delimiter=',', dtype='int8')\n",
    "Xtest = np.genfromtxt('data/Xtest.csv', delimiter=',')\n",
    "Ytest = np.genfromtxt('data/Ytest.csv', delimiter=',', dtype='int8')"
   ]
  },
  {
   "cell_type": "code",
   "execution_count": 4,
   "metadata": {
    "collapsed": true
   },
   "outputs": [],
   "source": [
    "def permute_data(x, y):\n",
    "    \"\"\"Shuffles both numpy arrays in unison.\"\"\"\n",
    "    perm = np.random.permutation(x.shape[0])\n",
    "    return x[perm, :], y[perm]\n",
    "\n",
    "Xtrain, Ytrain = permute_data(Xtrain, Ytrain)\n",
    "Xtest, Ytest = permute_data(Xtest, Ytest)"
   ]
  },
  {
   "cell_type": "code",
   "execution_count": 76,
   "metadata": {
    "collapsed": true
   },
   "outputs": [],
   "source": [
    "from sklearn.utils.estimator_checks import check_estimator\n",
    "\n",
    "class OnlineClassifier(BaseEstimator, ClassifierMixin):\n",
    "    def __init__(self, **params):\n",
    "        self.w = None\n",
    "        self.lbd = 1.0\n",
    "        self.set_params(**params)\n",
    "        \n",
    "    def fit(self, X, y):\n",
    "        raise Exception(\"Not implemented in abstract class.\")\n",
    "        \n",
    "    def get_params(self, deep=True):\n",
    "        return {\"lbd\": self.lbd}\n",
    "    \n",
    "    def set_params(self, **parameters):\n",
    "        for parameter, value in parameters.items():\n",
    "            setattr(self, parameter, value)\n",
    "        return self\n",
    "    \n",
    "    def predict(self, X):\n",
    "        signs = np.sign(np.inner(self.w, X))\n",
    "        signs[signs == 0] = -1\n",
    "        return signs.astype('int8')"
   ]
  },
  {
   "cell_type": "code",
   "execution_count": 97,
   "metadata": {
    "collapsed": true
   },
   "outputs": [],
   "source": [
    "def project_L1(w, a):\n",
    "    \"\"\"Project to L1-ball, as described by Duchi et al. [ICML '08].\"\"\"\n",
    "    z = 1.0 / (a * a)\n",
    "    if norm(w, 1) <= z:\n",
    "        # No normalization required.\n",
    "        return w\n",
    "    \n",
    "    mu = -np.sort(-w)\n",
    "    cs = np.cumsum(mu)\n",
    "    rho = -1\n",
    "    for j in range(len(w)):\n",
    "        if mu[j] - (1.0 / (j + 1)) * (cs[j] - z) > 0:\n",
    "            rho = j\n",
    "    \n",
    "    theta = (1.0 / (rho + 1)) * (cs[rho] - z)\n",
    "    return np.sign(w) * np.fmax(w - theta, 0)"
   ]
  },
  {
   "cell_type": "code",
   "execution_count": 112,
   "metadata": {
    "collapsed": true
   },
   "outputs": [],
   "source": [
    "def project_L2(w, lbd):\n",
    "    \"\"\"l2 regularization, using an l-2 ball of radius $\\sqrt{\\lamda}$.\n",
    "    \"\"\"\n",
    "    sqrt_lambda = np.sqrt(lbd)\n",
    "    w_norm = norm(w, 2)\n",
    "    regularizer = 1.0 / (sqrt_lambda * w_norm)\n",
    "    return w * min(1.0, regularizer)"
   ]
  },
  {
   "cell_type": "markdown",
   "metadata": {},
   "source": [
    "## Online Support Vector Machine"
   ]
  },
  {
   "cell_type": "code",
   "execution_count": 113,
   "metadata": {
    "collapsed": false
   },
   "outputs": [],
   "source": [
    "class OnlineSVMClassifier(OnlineClassifier):\n",
    "    \"\"\"Online SVM with L2 regularization.\"\"\"\n",
    "    \n",
    "    def fit(self, X, y):\n",
    "        assert X.shape[0] == y.shape[0]\n",
    "        # Initialize the model.\n",
    "        w = np.zeros(X.shape[1], dtype='float64')\n",
    "        \n",
    "        # Iterate just once through our data (this works, and is one\n",
    "        # of the key advantages of online SVMs).\n",
    "        for t, (x, label) in enumerate(zip(X, y)):\n",
    "            # The adaptive learning rate.\n",
    "            eta = 1.0 / np.sqrt(t + 1)\n",
    "            \n",
    "            # Compute the loss using the hinge loss formula.\n",
    "            hinge = label * np.inner(w, x)\n",
    "            \n",
    "            # If the hinge loss is smaller than 0, then we classified the\n",
    "            # current data point completely wrong, and if it's between 0 \n",
    "            # and 1, we were right but not confident enough (we want our \n",
    "            # decisions to be confident (hinge coef > 1) since we want to \n",
    "            # maximize the margin between our classes).\n",
    "            # In either of these cases we want to update our model and\n",
    "            # project it back to the specified l2 ball, in order to keep\n",
    "            # its complexity under control.\n",
    "            if hinge < 1:\n",
    "                w += eta * label * x\n",
    "                w = project_L2(w, self.lbd)\n",
    "\n",
    "        self.w = w\n",
    "        return self\n",
    "    \n",
    "# check_estimator(OnlineSVMClassifier)"
   ]
  },
  {
   "cell_type": "markdown",
   "metadata": {},
   "source": [
    "## Online Logistic Regression"
   ]
  },
  {
   "cell_type": "code",
   "execution_count": 114,
   "metadata": {
    "collapsed": false
   },
   "outputs": [],
   "source": [
    "def sigmoid(exp):\n",
    "    # TODO: consider simplifying this.\n",
    "    return np.exp(-scipy.misc.logsumexp([0, exp]))\n",
    "\n",
    "\n",
    "class OnlineLogisticRegressionClassifier(OnlineClassifier):\n",
    "    \"\"\"Online logistic regression with L1 regularization.\"\"\"\n",
    "    def fit(self, X, y):\n",
    "        # Implementation copied from sample solution.\n",
    "        # Despite what was mentioned in the assignment, there was nothing\n",
    "        # about online logistic regression in the lecture/tutorial slides,\n",
    "        # or in the textbook.\n",
    "        assert X.shape[0] == y.shape[0]\n",
    "        w = np.zeros(X.shape[1])\n",
    "        \n",
    "        for t, (x, label) in enumerate(zip(X, y)):\n",
    "            eta = 1.0 / np.sqrt(t + 1)\n",
    "            exp = label * np.inner(w, x)\n",
    "            predicted = sigmoid(exp)\n",
    "            \n",
    "            w += eta * predicted * label * x\n",
    "            w = project_L1(w, self.lbd)\n",
    "            \n",
    "        self.w = w"
   ]
  },
  {
   "cell_type": "markdown",
   "metadata": {},
   "source": [
    "## Analysis of algorithms"
   ]
  },
  {
   "cell_type": "code",
   "execution_count": 115,
   "metadata": {
    "collapsed": false
   },
   "outputs": [],
   "source": [
    "cls = OnlineSVMClassifier()\n",
    "\n",
    "logistic_cls = OnlineLogisticRegressionClassifier()"
   ]
  },
  {
   "cell_type": "markdown",
   "metadata": {},
   "source": [
    "### A grid search for optimal $\\lambda$"
   ]
  },
  {
   "cell_type": "code",
   "execution_count": 116,
   "metadata": {
    "collapsed": false
   },
   "outputs": [
    {
     "name": "stdout",
     "output_type": "stream",
     "text": [
      "Best score: 0.936115\n",
      "Best score params: {'lbd': 0.01}\n"
     ]
    }
   ],
   "source": [
    "from sklearn.grid_search import GridSearchCV, RandomizedSearchCV\n",
    "\n",
    "parameters = {\n",
    "    'lbd': [0.001, 0.005, 0.01, 0.05, 0.1]\n",
    "}\n",
    "gs = GridSearchCV(cls, parameters)\n",
    "gs_result = gs.fit(Xtrain, Ytrain)\n",
    "\n",
    "print(\"Best score: %f\" % gs_result.best_score_)\n",
    "print(\"Best score params: %s\" % gs_result.best_params_)"
   ]
  },
  {
   "cell_type": "code",
   "execution_count": 117,
   "metadata": {
    "collapsed": false
   },
   "outputs": [
    {
     "name": "stdout",
     "output_type": "stream",
     "text": [
      "Best score: 0.937933\n",
      "Best score params: {'lbd': 0.001}\n"
     ]
    }
   ],
   "source": [
    "l_gs = GridSearchCV(logistic_cls, parameters)\n",
    "l_gs_result = l_gs.fit(Xtrain, Ytrain)\n",
    "\n",
    "print(\"Best score: %f\" % l_gs_result.best_score_)\n",
    "print(\"Best score params: %s\" % l_gs_result.best_params_)"
   ]
  },
  {
   "cell_type": "markdown",
   "metadata": {},
   "source": [
    "### A randomized search for optimal $\\lambda$"
   ]
  },
  {
   "cell_type": "code",
   "execution_count": 118,
   "metadata": {
    "collapsed": false
   },
   "outputs": [
    {
     "name": "stdout",
     "output_type": "stream",
     "text": [
      "Best score: 0.935769\n",
      "Best score params: {'lbd': 0.011376761719538837}\n"
     ]
    }
   ],
   "source": [
    "import scipy.stats as stats\n",
    "\n",
    "rs_params = {\n",
    "    \"lbd\": stats.uniform(loc=0.001, scale=0.099)\n",
    "}\n",
    "rs_n_iter = 100\n",
    "rs = RandomizedSearchCV(cls, rs_params, rs_n_iter, n_jobs=1)\n",
    "rs_result = rs.fit(Xtrain, Ytrain)\n",
    "\n",
    "print(\"Best score: %f\" % rs_result.best_score_)\n",
    "print(\"Best score params: %s\" % rs_result.best_params_)"
   ]
  },
  {
   "cell_type": "code",
   "execution_count": 123,
   "metadata": {
    "collapsed": false
   },
   "outputs": [],
   "source": [
    "test_count = Xtrain.shape[0]\n",
    "steps = 30\n",
    "\n",
    "svm_cls = OnlineSVMClassifier(lbd=0.011)\n",
    "log_cls = OnlineLogisticRegressionClassifier(lbd=0.001)\n",
    "\n",
    "# TODO(andrei) Logistic regression with tonsa comments.\n",
    "# TODO(andrei) Try to get a general idea of how they implemented the projection to the L1-ball (i.e. LASSO-like).\n",
    "amounts = list(np.round((np.logspace(0, np.log10(test_count), steps))))\n",
    "svm_scores = []\n",
    "log_scores = []\n",
    "for amount in amounts:\n",
    "    Xsubsample = Xtrain[:int(amount),:]\n",
    "    Ysubsample = Ytrain[:int(amount)]\n",
    "    svm_cls.fit(Xsubsample, Ysubsample)\n",
    "    svm_scores.append(svm_cls.score(Xtest, Ytest))\n",
    "    \n",
    "    log_cls.fit(Xsubsample, Ysubsample)\n",
    "    log_scores.append(log_cls.score(Xtest, Ytest))"
   ]
  },
  {
   "cell_type": "code",
   "execution_count": 133,
   "metadata": {
    "collapsed": false
   },
   "outputs": [
    {
     "data": {
      "text/plain": [
       "<matplotlib.text.Text at 0x11941cf98>"
      ]
     },
     "execution_count": 133,
     "metadata": {},
     "output_type": "execute_result"
    },
    {
     "data": {
      "image/png": "[encoded data removed]",
      "text/plain": [
       "<matplotlib.figure.Figure at 0x10ab2f7f0>"
      ]
     },
     "metadata": {},
     "output_type": "display_data"
    },
    {
     "data": {
      "image/png": "[encoded data removed]",
      "text/plain": [
       "<matplotlib.figure.Figure at 0x111f62588>"
      ]
     },
     "metadata": {},
     "output_type": "display_data"
    }
   ],
   "source": [
    "# plt.plot(amounts, svm_scores)\n",
    "# ax = plt.gca()\n",
    "# ax.plot(amounts, log_scores)\n",
    "# _ = \n",
    "\n",
    "df = pd.DataFrame(index=pd.Index(amounts), data={\n",
    "    \"SVM + L2\": svm_scores,\n",
    "    \"Logistic + L1\": log_scores\n",
    "})\n",
    "\n",
    "ax = df.plot()\n",
    "ax.set_xlabel(\"Number of used training samples (linear scale)\")\n",
    "ax.set_ylabel(\"Test score\")\n",
    "ax = df.plot(logx=True)\n",
    "ax.set_xlabel(\"Number of used training samples (log scale)\")\n",
    "ax.set_ylabel(\"Test score\")"
   ]
  },
  {
   "cell_type": "markdown",
   "metadata": {},
   "source": [
    "One can clearly see in the above plot that the online SVM algorithm approaches its maximum accuracy quite early on (even after only processing about 10% of the training data)."
   ]
  },
  {
   "cell_type": "markdown",
   "metadata": {},
   "source": [
    "Note: the fluctuations are due to the random shuffling of the data and can be accounted for by choosing multiple subsamples of the training data for every count on the X-axis (this has been omitted since it can get quite time-consuming)."
   ]
  }
 ],
 "metadata": {
  "kernelspec": {
   "display_name": "Python 3",
   "language": "python",
   "name": "python3"
  },
  "language_info": {
   "codemirror_mode": {
    "name": "ipython",
    "version": 3
   },
   "file_extension": ".py",
   "mimetype": "text/x-python",
   "name": "python",
   "nbconvert_exporter": "python",
   "pygments_lexer": "ipython3",
   "version": "3.4.3"
  }
 },
 "nbformat": 4,
 "nbformat_minor": 0
}
